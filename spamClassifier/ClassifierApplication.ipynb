{
 "cells": [
  {
   "cell_type": "code",
   "execution_count": 37,
   "metadata": {},
   "outputs": [
    {
     "name": "stdout",
     "output_type": "stream",
     "text": [
      "<class 'pandas.core.frame.DataFrame'>\n",
      "RangeIndex: 5567 entries, 0 to 5566\n",
      "Data columns (total 2 columns):\n",
      "Class      5567 non-null object\n",
      "Message    5567 non-null object\n",
      "dtypes: object(2)\n",
      "memory usage: 87.1+ KB\n",
      "Prediction Accuracy : 98.29443447037703\n",
      "Enter Message: as a valued coustmer, you win a 500 bonus prize\n",
      "------------------------MESSAGE--SENT-[CHECK-SPAM-FOLDER]---------------------------\n"
     ]
    }
   ],
   "source": [
    "% run ClassifierModel.ipynb"
   ]
  }
 ],
 "metadata": {
  "kernelspec": {
   "display_name": "venv",
   "language": "python",
   "name": "python3"
  },
  "language_info": {
   "codemirror_mode": {
    "name": "ipython",
    "version": 3
   },
   "file_extension": ".py",
   "mimetype": "text/x-python",
   "name": "python",
   "nbconvert_exporter": "python",
   "pygments_lexer": "ipython3",
   "version": "3.9.7 (tags/v3.9.7:1016ef3, Aug 30 2021, 20:19:38) [MSC v.1929 64 bit (AMD64)]"
  },
  "vscode": {
   "interpreter": {
    "hash": "f999c72df87058778db7127a648f81b40bf3525a16a4ca4c3e43cffbcdea260b"
   }
  }
 },
 "nbformat": 4,
 "nbformat_minor": 2
}
